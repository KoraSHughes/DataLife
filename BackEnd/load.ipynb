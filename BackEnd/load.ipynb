{
 "cells": [
  {
   "cell_type": "markdown",
   "id": "21f8c1ab",
   "metadata": {},
   "source": [
    "# Main Document to Load and Traverse Data\n",
    "\n",
    "> Expected Data: school admissions preferences, number of students admitted per attribute category, etc."
   ]
  },
  {
   "cell_type": "code",
   "execution_count": 1,
   "id": "818bede1",
   "metadata": {},
   "outputs": [],
   "source": [
    "import pandas\n",
    "import numpy"
   ]
  },
  {
   "cell_type": "markdown",
   "id": "8319657d",
   "metadata": {},
   "source": [
    "## Schema:\n",
    "Nutrition Label:\n",
    "- School Label:\n",
    "- - Name\n",
    "- - ID\n",
    "- - Admission Preferences\n",
    "- - - gpa cutoff\n",
    "- - - zone\n",
    "\n",
    "\n",
    "- Student Label:\n",
    "- - Name\n",
    "- - School ID\n",
    "- - zone"
   ]
  },
  {
   "cell_type": "code",
   "execution_count": null,
   "id": "f8a8e099",
   "metadata": {},
   "outputs": [],
   "source": [
    "# df = pd.load(\"...\")"
   ]
  }
 ],
 "metadata": {
  "kernelspec": {
   "display_name": "Python 3 (ipykernel)",
   "language": "python",
   "name": "python3"
  },
  "language_info": {
   "codemirror_mode": {
    "name": "ipython",
    "version": 3
   },
   "file_extension": ".py",
   "mimetype": "text/x-python",
   "name": "python",
   "nbconvert_exporter": "python",
   "pygments_lexer": "ipython3",
   "version": "3.9.12"
  }
 },
 "nbformat": 4,
 "nbformat_minor": 5
}
