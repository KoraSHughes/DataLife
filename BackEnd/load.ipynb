{
 "cells": [
  {
   "cell_type": "markdown",
   "id": "426927ed",
   "metadata": {},
   "source": [
    "# Main Document to Load and Traverse Data\n",
    "\n",
    "> Expected Data: school admissions preferences, number of students admitted per attribute category, etc."
   ]
  },
  {
   "cell_type": "code",
   "execution_count": 1,
   "id": "96878873",
   "metadata": {},
   "outputs": [],
   "source": [
    "import pandas\n",
    "import numpy"
   ]
  },
  {
   "cell_type": "markdown",
   "id": "8f9c2ca9",
   "metadata": {},
   "source": [
    "## Schema:\n",
    "Nutrition Label:\n",
    "- School Label:\n",
    "  - Name\n",
    "  - ID\n",
    "  - AP courses offered\n",
    "  - Location\n",
    "  - Subject Specialization\n",
    "  - Accomodations\n",
    "  - Admission Preferences\n",
    "   - gpa cutoff\n",
    "   - zone\n",
    "   - subject specification\n",
    "\n",
    "\n",
    "- Student Label:\n",
    "  - Name\n",
    "  - Location\n",
    "  - Zone\n",
    "  - School ID\n",
    "  - Subject preference\n",
    "  - AP course preferences"
   ]
  },
  {
   "cell_type": "code",
   "execution_count": null,
   "id": "404e1dc4",
   "metadata": {},
   "outputs": [],
   "source": [
    "# df = pd.load(\"...\")"
   ]
  }
 ],
 "metadata": {
  "kernelspec": {
   "display_name": "Python 3 (ipykernel)",
   "language": "python",
   "name": "python3"
  },
  "language_info": {
   "codemirror_mode": {
    "name": "ipython",
    "version": 3
   },
   "file_extension": ".py",
   "mimetype": "text/x-python",
   "name": "python",
   "nbconvert_exporter": "python",
   "pygments_lexer": "ipython3",
   "version": "3.9.12"
  }
 },
 "nbformat": 4,
 "nbformat_minor": 5
}
