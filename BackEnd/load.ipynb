{
 "cells": [
  {
   "cell_type": "markdown",
   "id": "426927ed",
   "metadata": {},
   "source": [
    "# Main Document to Load and Traverse Data\n",
    "\n",
    "> Expected Data: school admissions preferences, number of students admitted per attribute category, etc."
   ]
  },
  {
   "cell_type": "code",
   "execution_count": 1,
   "id": "96878873",
   "metadata": {},
   "outputs": [],
   "source": [
    "import pandas as pd\n",
    "import numpy as np\n",
    "import os\n",
    "\n",
    "from tqdm import tqdm\n",
    "\n",
    "cwd = os.getcwd()\n",
    "testing = False  # ******"
   ]
  },
  {
   "cell_type": "markdown",
   "id": "8f9c2ca9",
   "metadata": {},
   "source": [
    "## Schema:\n",
    "Nutrition Label:\n",
    "- School Label:\n",
    "  - Name\n",
    "  - ID\n",
    "  - AP courses offered\n",
    "  - Location\n",
    "  - Subject Specialization\n",
    "  - Accomodations\n",
    "  - Admission Preferences\n",
    "   - gpa cutoff\n",
    "   - zone\n",
    "   - subject specification\n",
    "\n",
    "\n",
    "- Student Label:\n",
    "  - Name\n",
    "  - Location\n",
    "  - Zone\n",
    "  - School ID\n",
    "  - Subject preference\n",
    "  - AP course preferences"
   ]
  },
  {
   "cell_type": "markdown",
   "id": "d7b8e5a0",
   "metadata": {},
   "source": [
    "## Task 1: Load student demographics and preferences and join"
   ]
  },
  {
   "cell_type": "code",
   "execution_count": 2,
   "id": "404e1dc4",
   "metadata": {},
   "outputs": [
    {
     "data": {
      "text/html": [
       "<div>\n",
       "<style scoped>\n",
       "    .dataframe tbody tr th:only-of-type {\n",
       "        vertical-align: middle;\n",
       "    }\n",
       "\n",
       "    .dataframe tbody tr th {\n",
       "        vertical-align: top;\n",
       "    }\n",
       "\n",
       "    .dataframe thead th {\n",
       "        text-align: right;\n",
       "    }\n",
       "</style>\n",
       "<table border=\"1\" class=\"dataframe\">\n",
       "  <thead>\n",
       "    <tr style=\"text-align: right;\">\n",
       "      <th></th>\n",
       "      <th>Student_Id</th>\n",
       "      <th>Residential_District</th>\n",
       "      <th>swd</th>\n",
       "      <th>poverty</th>\n",
       "      <th>sex</th>\n",
       "      <th>ell</th>\n",
       "      <th>ENI</th>\n",
       "      <th>Black</th>\n",
       "      <th>Hispanic</th>\n",
       "      <th>Multi-Racial</th>\n",
       "      <th>White</th>\n",
       "      <th>Asian</th>\n",
       "      <th>Native American</th>\n",
       "      <th>Missing Race/Ethnicity Data</th>\n",
       "      <th>school</th>\n",
       "      <th>Math_score</th>\n",
       "      <th>ELA_score</th>\n",
       "    </tr>\n",
       "  </thead>\n",
       "  <tbody>\n",
       "    <tr>\n",
       "      <th>0</th>\n",
       "      <td>student_36332</td>\n",
       "      <td>Residential District Unknown</td>\n",
       "      <td>0</td>\n",
       "      <td>0</td>\n",
       "      <td>1</td>\n",
       "      <td>0</td>\n",
       "      <td>0.723</td>\n",
       "      <td>0</td>\n",
       "      <td>1</td>\n",
       "      <td>0</td>\n",
       "      <td>0</td>\n",
       "      <td>0</td>\n",
       "      <td>0</td>\n",
       "      <td>0</td>\n",
       "      <td>30Q127</td>\n",
       "      <td>2.000000</td>\n",
       "      <td>3.125000</td>\n",
       "    </tr>\n",
       "    <tr>\n",
       "      <th>1</th>\n",
       "      <td>student_36144</td>\n",
       "      <td>Residential District Unknown</td>\n",
       "      <td>0</td>\n",
       "      <td>1</td>\n",
       "      <td>0</td>\n",
       "      <td>0</td>\n",
       "      <td>0.684</td>\n",
       "      <td>0</td>\n",
       "      <td>1</td>\n",
       "      <td>0</td>\n",
       "      <td>0</td>\n",
       "      <td>0</td>\n",
       "      <td>0</td>\n",
       "      <td>0</td>\n",
       "      <td>27Q137</td>\n",
       "      <td>2.153846</td>\n",
       "      <td>2.750000</td>\n",
       "    </tr>\n",
       "    <tr>\n",
       "      <th>2</th>\n",
       "      <td>student_37038</td>\n",
       "      <td>Residential District Unknown</td>\n",
       "      <td>1</td>\n",
       "      <td>1</td>\n",
       "      <td>1</td>\n",
       "      <td>0</td>\n",
       "      <td>0.881</td>\n",
       "      <td>0</td>\n",
       "      <td>1</td>\n",
       "      <td>0</td>\n",
       "      <td>0</td>\n",
       "      <td>0</td>\n",
       "      <td>0</td>\n",
       "      <td>0</td>\n",
       "      <td>24Q061</td>\n",
       "      <td>2.846154</td>\n",
       "      <td>1.753425</td>\n",
       "    </tr>\n",
       "    <tr>\n",
       "      <th>3</th>\n",
       "      <td>student_614</td>\n",
       "      <td>Residential District Unknown</td>\n",
       "      <td>0</td>\n",
       "      <td>0</td>\n",
       "      <td>1</td>\n",
       "      <td>0</td>\n",
       "      <td>0.191</td>\n",
       "      <td>0</td>\n",
       "      <td>0</td>\n",
       "      <td>0</td>\n",
       "      <td>1</td>\n",
       "      <td>0</td>\n",
       "      <td>0</td>\n",
       "      <td>0</td>\n",
       "      <td>02M114</td>\n",
       "      <td>4.275862</td>\n",
       "      <td>4.181818</td>\n",
       "    </tr>\n",
       "    <tr>\n",
       "      <th>4</th>\n",
       "      <td>student_21981</td>\n",
       "      <td>Residential District Unknown</td>\n",
       "      <td>1</td>\n",
       "      <td>0</td>\n",
       "      <td>1</td>\n",
       "      <td>0</td>\n",
       "      <td>0.304</td>\n",
       "      <td>0</td>\n",
       "      <td>0</td>\n",
       "      <td>0</td>\n",
       "      <td>1</td>\n",
       "      <td>0</td>\n",
       "      <td>0</td>\n",
       "      <td>0</td>\n",
       "      <td>02M312</td>\n",
       "      <td>4.017241</td>\n",
       "      <td>3.125000</td>\n",
       "    </tr>\n",
       "    <tr>\n",
       "      <th>...</th>\n",
       "      <td>...</td>\n",
       "      <td>...</td>\n",
       "      <td>...</td>\n",
       "      <td>...</td>\n",
       "      <td>...</td>\n",
       "      <td>...</td>\n",
       "      <td>...</td>\n",
       "      <td>...</td>\n",
       "      <td>...</td>\n",
       "      <td>...</td>\n",
       "      <td>...</td>\n",
       "      <td>...</td>\n",
       "      <td>...</td>\n",
       "      <td>...</td>\n",
       "      <td>...</td>\n",
       "      <td>...</td>\n",
       "      <td>...</td>\n",
       "    </tr>\n",
       "    <tr>\n",
       "      <th>71245</th>\n",
       "      <td>student_22462</td>\n",
       "      <td>Residential District 01</td>\n",
       "      <td>0</td>\n",
       "      <td>0</td>\n",
       "      <td>1</td>\n",
       "      <td>0</td>\n",
       "      <td>0.650</td>\n",
       "      <td>0</td>\n",
       "      <td>1</td>\n",
       "      <td>0</td>\n",
       "      <td>0</td>\n",
       "      <td>0</td>\n",
       "      <td>0</td>\n",
       "      <td>0</td>\n",
       "      <td>01M450</td>\n",
       "      <td>2.000000</td>\n",
       "      <td>1.972603</td>\n",
       "    </tr>\n",
       "    <tr>\n",
       "      <th>71246</th>\n",
       "      <td>student_30857</td>\n",
       "      <td>Residential District 01</td>\n",
       "      <td>1</td>\n",
       "      <td>0</td>\n",
       "      <td>1</td>\n",
       "      <td>0</td>\n",
       "      <td>0.621</td>\n",
       "      <td>0</td>\n",
       "      <td>0</td>\n",
       "      <td>0</td>\n",
       "      <td>0</td>\n",
       "      <td>1</td>\n",
       "      <td>0</td>\n",
       "      <td>0</td>\n",
       "      <td>01M184</td>\n",
       "      <td>3.000000</td>\n",
       "      <td>3.125000</td>\n",
       "    </tr>\n",
       "    <tr>\n",
       "      <th>71247</th>\n",
       "      <td>student_57833</td>\n",
       "      <td>Residential District 01</td>\n",
       "      <td>0</td>\n",
       "      <td>0</td>\n",
       "      <td>0</td>\n",
       "      <td>0</td>\n",
       "      <td>0.256</td>\n",
       "      <td>1</td>\n",
       "      <td>0</td>\n",
       "      <td>0</td>\n",
       "      <td>0</td>\n",
       "      <td>0</td>\n",
       "      <td>0</td>\n",
       "      <td>0</td>\n",
       "      <td>01M539</td>\n",
       "      <td>2.615385</td>\n",
       "      <td>4.030303</td>\n",
       "    </tr>\n",
       "    <tr>\n",
       "      <th>71248</th>\n",
       "      <td>student_32259</td>\n",
       "      <td>Residential District 01</td>\n",
       "      <td>0</td>\n",
       "      <td>1</td>\n",
       "      <td>0</td>\n",
       "      <td>0</td>\n",
       "      <td>0.950</td>\n",
       "      <td>0</td>\n",
       "      <td>0</td>\n",
       "      <td>0</td>\n",
       "      <td>0</td>\n",
       "      <td>1</td>\n",
       "      <td>0</td>\n",
       "      <td>0</td>\n",
       "      <td>01M188</td>\n",
       "      <td>3.083333</td>\n",
       "      <td>2.000000</td>\n",
       "    </tr>\n",
       "    <tr>\n",
       "      <th>71249</th>\n",
       "      <td>student_68963</td>\n",
       "      <td>Residential District 01</td>\n",
       "      <td>1</td>\n",
       "      <td>0</td>\n",
       "      <td>1</td>\n",
       "      <td>0</td>\n",
       "      <td>0.630</td>\n",
       "      <td>0</td>\n",
       "      <td>1</td>\n",
       "      <td>0</td>\n",
       "      <td>0</td>\n",
       "      <td>0</td>\n",
       "      <td>0</td>\n",
       "      <td>0</td>\n",
       "      <td>01M839</td>\n",
       "      <td>2.692308</td>\n",
       "      <td>2.312500</td>\n",
       "    </tr>\n",
       "  </tbody>\n",
       "</table>\n",
       "<p>71250 rows × 17 columns</p>\n",
       "</div>"
      ],
      "text/plain": [
       "          Student_Id          Residential_District  swd  poverty  sex  ell  \\\n",
       "0      student_36332  Residential District Unknown    0        0    1    0   \n",
       "1      student_36144  Residential District Unknown    0        1    0    0   \n",
       "2      student_37038  Residential District Unknown    1        1    1    0   \n",
       "3        student_614  Residential District Unknown    0        0    1    0   \n",
       "4      student_21981  Residential District Unknown    1        0    1    0   \n",
       "...              ...                           ...  ...      ...  ...  ...   \n",
       "71245  student_22462       Residential District 01    0        0    1    0   \n",
       "71246  student_30857       Residential District 01    1        0    1    0   \n",
       "71247  student_57833       Residential District 01    0        0    0    0   \n",
       "71248  student_32259       Residential District 01    0        1    0    0   \n",
       "71249  student_68963       Residential District 01    1        0    1    0   \n",
       "\n",
       "         ENI  Black  Hispanic  Multi-Racial  White  Asian  Native American  \\\n",
       "0      0.723      0         1             0      0      0                0   \n",
       "1      0.684      0         1             0      0      0                0   \n",
       "2      0.881      0         1             0      0      0                0   \n",
       "3      0.191      0         0             0      1      0                0   \n",
       "4      0.304      0         0             0      1      0                0   \n",
       "...      ...    ...       ...           ...    ...    ...              ...   \n",
       "71245  0.650      0         1             0      0      0                0   \n",
       "71246  0.621      0         0             0      0      1                0   \n",
       "71247  0.256      1         0             0      0      0                0   \n",
       "71248  0.950      0         0             0      0      1                0   \n",
       "71249  0.630      0         1             0      0      0                0   \n",
       "\n",
       "       Missing Race/Ethnicity Data  school  Math_score  ELA_score  \n",
       "0                                0  30Q127    2.000000   3.125000  \n",
       "1                                0  27Q137    2.153846   2.750000  \n",
       "2                                0  24Q061    2.846154   1.753425  \n",
       "3                                0  02M114    4.275862   4.181818  \n",
       "4                                0  02M312    4.017241   3.125000  \n",
       "...                            ...     ...         ...        ...  \n",
       "71245                            0  01M450    2.000000   1.972603  \n",
       "71246                            0  01M184    3.000000   3.125000  \n",
       "71247                            0  01M539    2.615385   4.030303  \n",
       "71248                            0  01M188    3.083333   2.000000  \n",
       "71249                            0  01M839    2.692308   2.312500  \n",
       "\n",
       "[71250 rows x 17 columns]"
      ]
     },
     "execution_count": 2,
     "metadata": {},
     "output_type": "execute_result"
    }
   ],
   "source": [
    "student_df = pd.read_csv(cwd + \"/Data/student_info_with_demographics.csv\")\n",
    "student_df"
   ]
  },
  {
   "cell_type": "code",
   "execution_count": 3,
   "id": "235e79d0",
   "metadata": {},
   "outputs": [
    {
     "data": {
      "text/html": [
       "<div>\n",
       "<style scoped>\n",
       "    .dataframe tbody tr th:only-of-type {\n",
       "        vertical-align: middle;\n",
       "    }\n",
       "\n",
       "    .dataframe tbody tr th {\n",
       "        vertical-align: top;\n",
       "    }\n",
       "\n",
       "    .dataframe thead th {\n",
       "        text-align: right;\n",
       "    }\n",
       "</style>\n",
       "<table border=\"1\" class=\"dataframe\">\n",
       "  <thead>\n",
       "    <tr style=\"text-align: right;\">\n",
       "      <th></th>\n",
       "      <th>Student_Id</th>\n",
       "      <th>School</th>\n",
       "      <th>Rank</th>\n",
       "      <th>Rating</th>\n",
       "    </tr>\n",
       "  </thead>\n",
       "  <tbody>\n",
       "    <tr>\n",
       "      <th>0</th>\n",
       "      <td>student_68963</td>\n",
       "      <td>02M411</td>\n",
       "      <td>0</td>\n",
       "      <td>1.000000</td>\n",
       "    </tr>\n",
       "    <tr>\n",
       "      <th>1</th>\n",
       "      <td>student_68963</td>\n",
       "      <td>02M376</td>\n",
       "      <td>1</td>\n",
       "      <td>0.500000</td>\n",
       "    </tr>\n",
       "    <tr>\n",
       "      <th>2</th>\n",
       "      <td>student_68963</td>\n",
       "      <td>02M316</td>\n",
       "      <td>2</td>\n",
       "      <td>0.333333</td>\n",
       "    </tr>\n",
       "    <tr>\n",
       "      <th>3</th>\n",
       "      <td>student_68963</td>\n",
       "      <td>02M438</td>\n",
       "      <td>3</td>\n",
       "      <td>0.250000</td>\n",
       "    </tr>\n",
       "    <tr>\n",
       "      <th>4</th>\n",
       "      <td>student_68963</td>\n",
       "      <td>01M448</td>\n",
       "      <td>4</td>\n",
       "      <td>0.200000</td>\n",
       "    </tr>\n",
       "    <tr>\n",
       "      <th>...</th>\n",
       "      <td>...</td>\n",
       "      <td>...</td>\n",
       "      <td>...</td>\n",
       "      <td>...</td>\n",
       "    </tr>\n",
       "    <tr>\n",
       "      <th>492363</th>\n",
       "      <td>student_36332</td>\n",
       "      <td>02M414</td>\n",
       "      <td>2</td>\n",
       "      <td>0.333333</td>\n",
       "    </tr>\n",
       "    <tr>\n",
       "      <th>492364</th>\n",
       "      <td>student_36332</td>\n",
       "      <td>20K490</td>\n",
       "      <td>3</td>\n",
       "      <td>0.250000</td>\n",
       "    </tr>\n",
       "    <tr>\n",
       "      <th>492365</th>\n",
       "      <td>student_36332</td>\n",
       "      <td>18K637</td>\n",
       "      <td>4</td>\n",
       "      <td>0.200000</td>\n",
       "    </tr>\n",
       "    <tr>\n",
       "      <th>492366</th>\n",
       "      <td>student_36332</td>\n",
       "      <td>28Q686</td>\n",
       "      <td>5</td>\n",
       "      <td>0.166667</td>\n",
       "    </tr>\n",
       "    <tr>\n",
       "      <th>492367</th>\n",
       "      <td>student_36332</td>\n",
       "      <td>24Q585</td>\n",
       "      <td>6</td>\n",
       "      <td>0.142857</td>\n",
       "    </tr>\n",
       "  </tbody>\n",
       "</table>\n",
       "<p>492368 rows × 4 columns</p>\n",
       "</div>"
      ],
      "text/plain": [
       "           Student_Id  School  Rank    Rating\n",
       "0       student_68963  02M411     0  1.000000\n",
       "1       student_68963  02M376     1  0.500000\n",
       "2       student_68963  02M316     2  0.333333\n",
       "3       student_68963  02M438     3  0.250000\n",
       "4       student_68963  01M448     4  0.200000\n",
       "...               ...     ...   ...       ...\n",
       "492363  student_36332  02M414     2  0.333333\n",
       "492364  student_36332  20K490     3  0.250000\n",
       "492365  student_36332  18K637     4  0.200000\n",
       "492366  student_36332  28Q686     5  0.166667\n",
       "492367  student_36332  24Q585     6  0.142857\n",
       "\n",
       "[492368 rows x 4 columns]"
      ]
     },
     "execution_count": 3,
     "metadata": {},
     "output_type": "execute_result"
    }
   ],
   "source": [
    "ranking_df = pd.read_csv(cwd + \"/Data/student_prefs.csv\")\n",
    "ranking_df"
   ]
  },
  {
   "cell_type": "code",
   "execution_count": 4,
   "id": "127c479c",
   "metadata": {},
   "outputs": [
    {
     "name": "stderr",
     "output_type": "stream",
     "text": [
      "492368it [00:26, 18339.91it/s]\n",
      "100%|█████████████████████████████████████| 71250/71250 [00:00<00:00, 1562706.41it/s]"
     ]
    },
    {
     "name": "stdout",
     "output_type": "stream",
     "text": [
      "\n",
      "Example Student Ranking\n",
      " ['01M696', '21K540', '22K405']\n"
     ]
    },
    {
     "name": "stderr",
     "output_type": "stream",
     "text": [
      "\n"
     ]
    }
   ],
   "source": [
    "student_ids = list(ranking_df[\"Student_Id\"].unique())  # get student ids\n",
    "if testing:  # subset of data for testing\n",
    "    student_ids = student_ids[:400]\n",
    "\n",
    "unknown_val = \"nan\"  # placeholder for no rankings\n",
    "num_student_ranks = 12  # maximum number of rankings a student can have\n",
    "student_rankings = dict([ [sid, [unknown_val for i in range(num_student_ranks)]] for sid in student_ids])  # initializing dict\n",
    "\n",
    "cleaner = {}  # keeps track of the maximum ranking of a given student for the cleaning step\n",
    "for i, row in tqdm(ranking_df.iterrows()):  # Note: this is slower for testing purposes but faster for total runtime\n",
    "    if not testing or row[\"Student_Id\"] in student_ids:\n",
    "        student_rankings[row[\"Student_Id\"]][int(row[\"Rank\"])] = row[\"School\"]\n",
    "        if row[\"Student_Id\"] not in cleaner or cleaner[row[\"Student_Id\"]] < row[\"Rank\"]:\n",
    "            cleaner[row[\"Student_Id\"]] = row[\"Rank\"]  #\n",
    "\n",
    "# optional cleaning step\n",
    "if testing:\n",
    "    print(\"Cleaning...\")\n",
    "for sid, rank in tqdm(cleaner.items()):  # more efficient than remove()\n",
    "    if rank < num_student_ranks:\n",
    "        student_rankings[sid] = student_rankings[sid][:rank+1]  # +1 due to exclusivity of slicing\n",
    "\n",
    "print(\"\\nExample Student Ranking\\n\", student_rankings[np.random.choice(student_ids)])"
   ]
  },
  {
   "cell_type": "code",
   "execution_count": 6,
   "id": "42459346",
   "metadata": {},
   "outputs": [
    {
     "name": "stdout",
     "output_type": "stream",
     "text": [
      "Current average number of schools ranked per student: 6.910428070175438\n"
     ]
    }
   ],
   "source": [
    "# stats for sanity check\n",
    "rank_avg = np.mean([len(rank) for sid, rank in student_rankings.items()])\n",
    "print(\"Current average number of schools ranked per student:\", rank_avg)"
   ]
  },
  {
   "cell_type": "code",
   "execution_count": 6,
   "id": "4e295e0c",
   "metadata": {},
   "outputs": [
    {
     "name": "stdout",
     "output_type": "stream",
     "text": [
      "saved at /Data/student_rankings.npy\n"
     ]
    }
   ],
   "source": [
    "# saving student rankings\n",
    "np.save(cwd+\"/Data/student_rankings.npy\", student_rankings)\n",
    "print(\"saved at\", \"/Data/student_rankings.npy\")"
   ]
  },
  {
   "cell_type": "markdown",
   "id": "a652d63c",
   "metadata": {},
   "source": [
    "## Task 2: Aggregate School Codes & Generate Random Rankings"
   ]
  },
  {
   "cell_type": "code",
   "execution_count": 5,
   "id": "9b722c91",
   "metadata": {},
   "outputs": [
    {
     "name": "stderr",
     "output_type": "stream",
     "text": [
      "100%|█████████████████████████████████████████████| 437/437 [00:01<00:00, 406.79it/s]"
     ]
    },
    {
     "name": "stdout",
     "output_type": "stream",
     "text": [
      "Example School Ranking\n",
      " ['student_66203', 'student_62810', 'student_40718', 'student_16842', 'student_26971'] ...\n"
     ]
    },
    {
     "name": "stderr",
     "output_type": "stream",
     "text": [
      "\n"
     ]
    }
   ],
   "source": [
    "school_ids = list(ranking_df[\"School\"].unique())\n",
    "school_rankings = {}\n",
    "for sid in tqdm(school_ids):\n",
    "    np.random.shuffle(student_ids)  # randomize id's\n",
    "    school_rankings[sid] = student_ids\n",
    "    \n",
    "print(\"Example School Ranking\\n\", school_rankings[np.random.choice(school_ids)][:5], \"...\")"
   ]
  },
  {
   "cell_type": "code",
   "execution_count": 8,
   "id": "2fbb5c4b",
   "metadata": {},
   "outputs": [
    {
     "name": "stdout",
     "output_type": "stream",
     "text": [
      "saved at /Data/school_rankings.npy\n"
     ]
    }
   ],
   "source": [
    "# saving school rankings\n",
    "np.save(cwd+\"/Data/school_rankings.npy\", school_rankings)\n",
    "print(\"saved at\", \"/Data/school_rankings.npy\")"
   ]
  },
  {
   "cell_type": "markdown",
   "id": "c6c304dd",
   "metadata": {},
   "source": [
    "#### INTENDED OUTPUT\n",
    "student_rankings = {student_id : [school_ids_ranked]}\n",
    "\n",
    "school_rankings = {school ids : [student_ids_ranked]}"
   ]
  },
  {
   "cell_type": "code",
   "execution_count": 9,
   "id": "ac7a0374",
   "metadata": {},
   "outputs": [
    {
     "name": "stdout",
     "output_type": "stream",
     "text": [
      "71250 students ranked alongside 437 schools\n"
     ]
    }
   ],
   "source": [
    "print(len(student_rankings), \"students ranked alongside\", len(school_rankings), \"schools\")"
   ]
  },
  {
   "cell_type": "markdown",
   "id": "36728640",
   "metadata": {},
   "source": [
    "## Task 3: Create more Complex School Ranking\n",
    "\n",
    "### Subtask 3.1: Derive typical phenotypes for school preferences based on scoring (ei schools that have gpa buckets/cutoffs and schools that prefer certain subjects over others)\n",
    "> Note: the goal is to simply be more accurate than a random lottery\n",
    "\n",
    "### Subtask 3.2 Create create model for top 3 phenotypes and recalculate school_rankings\n",
    "\n",
    "### Subtask 3.3 Add student lottery number (with hex conversion) and weight school-preference lottery by it"
   ]
  },
  {
   "cell_type": "code",
   "execution_count": 10,
   "id": "1b64d282",
   "metadata": {},
   "outputs": [
    {
     "name": "stderr",
     "output_type": "stream",
     "text": [
      "100%|█████████████████████████████████████████████| 437/437 [00:00<00:00, 491.09it/s]"
     ]
    },
    {
     "name": "stdout",
     "output_type": "stream",
     "text": [
      "Example School Ranking\n",
      " ['student_18678', 'student_35755', 'student_61449', 'student_60378', 'student_3546'] ...\n"
     ]
    },
    {
     "name": "stderr",
     "output_type": "stream",
     "text": [
      "\n"
     ]
    }
   ],
   "source": [
    "def rank_students(school_ids, school_preferences, students):\n",
    "    \"\"\" creates school rankings structure based on phenotypical criteria:\n",
    "    Criterion A) District\n",
    "    Criterion B) Lottery (some should be lottery only)\n",
    "    Criterion C) Math+ELA Score\n",
    "    Criterion D) Poverty Index (proxy for race/gender)\n",
    "    \"\"\"\n",
    "    \n",
    "    # basic randomizer variant\n",
    "    student_ids = list(students[\"Student_Id\"].unique())\n",
    "    school_rankings = {}\n",
    "    for sid in tqdm(school_ids):\n",
    "        np.random.shuffle(student_ids)  # randomize id's\n",
    "        school_rankings[sid] = student_ids\n",
    "    \n",
    "    print(\"Example School Ranking\\n\", school_rankings[np.random.choice(school_ids)][:5], \"...\")\n",
    "    return school_rankings\n",
    "\n",
    "test_school_rankings = rank_students(list(ranking_df[\"School\"].unique()), {}, student_df)"
   ]
  },
  {
   "cell_type": "code",
   "execution_count": null,
   "id": "641cc804",
   "metadata": {},
   "outputs": [],
   "source": [
    "# using low-income as a proxy for race"
   ]
  }
 ],
 "metadata": {
  "kernelspec": {
   "display_name": "Python 3 (ipykernel)",
   "language": "python",
   "name": "python3"
  },
  "language_info": {
   "codemirror_mode": {
    "name": "ipython",
    "version": 3
   },
   "file_extension": ".py",
   "mimetype": "text/x-python",
   "name": "python",
   "nbconvert_exporter": "python",
   "pygments_lexer": "ipython3",
   "version": "3.9.12"
  }
 },
 "nbformat": 4,
 "nbformat_minor": 5
}
